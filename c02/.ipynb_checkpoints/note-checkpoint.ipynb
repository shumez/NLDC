{
 "cells": [
  {
   "cell_type": "markdown",
   "metadata": {},
   "source": [
    "# 2 Flows on the line\n",
    "---"
   ]
  },
  {
   "cell_type": "markdown",
   "metadata": {},
   "source": [
    "**Overview**\n",
    "\n",
    "- [2.0 Introduction](#2.0-Introduction)"
   ]
  },
  {
   "cell_type": "markdown",
   "metadata": {},
   "source": [
    "## 2.0 Introduction\n",
    "---"
   ]
  },
  {
   "cell_type": "markdown",
   "metadata": {},
   "source": [
    "$$\n",
    "\\begin{align*}\n",
    "\\dot{x}_1 &= f_1(x_1, \\cdots, x_n) \\\\\n",
    "& \\vdots \\\\\n",
    "\\dot{x}_n &= f_n(x_1, \\cdots, x_n)\n",
    "\\end{align*}\n",
    "$$\n",
    "\n",
    "$n = 1$\n",
    "\n",
    "$$\\dot{x} = f(x)$$\n",
    "\n",
    "**one-dimensinal** / **first-order system**\n"
   ]
  },
  {
   "cell_type": "markdown",
   "metadata": {},
   "source": [
    "## 2.1 A Geometric way of Thinking\n",
    "---"
   ]
  },
  {
   "cell_type": "markdown",
   "metadata": {},
   "source": [
    "$$\\dot{x} = \\sin x$$\n",
    "(1)\n",
    "\n",
    "$$dt = \\frac{dx}{\\sin x}$$\n",
    "\n",
    "implies: \n",
    "$$\n",
    "\\begin{align*}\n",
    "t &= \\int \\csc x \\, \\mathrm{d}x \\\\\n",
    "&= - \\ln |\\csc x + \\cot x | + C\n",
    "\\end{align*}\n",
    "$$\n",
    "\n",
    "$$t = \\ln \\Big|\\frac{\\csc x_0 + \\cot x_0}{\\csc x + \\cot x}\\Big|$$\n",
    "(2)\n",
    "\n"
   ]
  },
  {
   "cell_type": "code",
   "execution_count": 24,
   "metadata": {},
   "outputs": [
    {
     "data": {
      "image/png": "[encoded data removed]",
      "text/plain": [
       "<matplotlib.figure.Figure at 0x110b7db70>"
      ]
     },
     "metadata": {},
     "output_type": "display_data"
    }
   ],
   "source": [
    "import matplotlib.pyplot as plt\n",
    "import numpy as np\n",
    "\n",
    "pi = np.pi\n",
    "\n",
    "x = np.linspace(-pi*3, pi*3, num=100)\n",
    "x_dot = np.sin(x)\n",
    "plt.plot(x, x_dot)\n",
    "\n",
    "stable = np.arange(-pi*3, pi*4, pi*2)\n",
    "plt.scatter(stable, np.repeat(0, len(stable)), marker='o', label='stable')\n",
    "\n",
    "unstable = np.arange(-pi*2, pi*3, pi*2)\n",
    "plt.scatter(unstable, np.repeat(0, len(unstable)), marker='o', label='unstable')\n",
    "\n",
    "\n",
    "flow_pos = np.arange(-pi*3/2, pi*7/2, pi*2)\n",
    "plt.scatter(flow_pos, np.repeat(0, len(flow_pos)), marker='>', c='')\n",
    "\n",
    "flow_neg = np.arange(-pi*5/2, pi*5/2, pi*2)\n",
    "plt.scatter(flow_neg, np.repeat(0, len(flow_neg)), marker='<', c='')\n",
    "\n",
    "plt.xlabel('x')\n",
    "plt.ylabel('dx/dt')\n",
    "plt.legend(loc='upper right')\n",
    "plt.show()"
   ]
  },
  {
   "cell_type": "markdown",
   "metadata": {},
   "source": [
    "**fixed point**\n",
    "- **stable**\n",
    "- **unstable**"
   ]
  },
  {
   "cell_type": "markdown",
   "metadata": {},
   "source": [
    "**Overview**\n",
    "\n",
    "- [2.0 Introduction](#2.0-Introduction)\n",
    "- [2.1 A Geometric way of Thinking](#2.1-A-Geometric-way-of-Thinking)"
   ]
  }
 ],
 "metadata": {
  "kernelspec": {
   "display_name": "Python 3",
   "language": "python",
   "name": "python3"
  },
  "language_info": {
   "codemirror_mode": {
    "name": "ipython",
    "version": 3
   },
   "file_extension": ".py",
   "mimetype": "text/x-python",
   "name": "python",
   "nbconvert_exporter": "python",
   "pygments_lexer": "ipython3",
   "version": "3.6.3"
  }
 },
 "nbformat": 4,
 "nbformat_minor": 2
}
