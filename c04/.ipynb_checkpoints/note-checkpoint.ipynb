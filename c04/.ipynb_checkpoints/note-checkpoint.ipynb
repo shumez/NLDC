{
 "cells": [
  {
   "cell_type": "markdown",
   "metadata": {},
   "source": [
    "# 4 Flows on the Circle\n",
    "---"
   ]
  },
  {
   "cell_type": "markdown",
   "metadata": {},
   "source": [
    "**Overview**\n",
    "\n",
    "- [4.0 Introduction](#4.0-Introduction)\n",
    "\n",
    "---"
   ]
  },
  {
   "cell_type": "code",
   "execution_count": 1,
   "metadata": {},
   "outputs": [],
   "source": [
    "import matplotlib.pyplot as plt\n",
    "import numpy as np\n",
    "\n",
    "c = ['#1f77b4', \n",
    "     '#ff7f0e', \n",
    "     '#2ca02c', \n",
    "     '#d62728', \n",
    "     '#9467bd', \n",
    "     '#8c564b', \n",
    "     '#e377c2', \n",
    "     '#7f7f7f', \n",
    "     '#bcbd22', \n",
    "     '#17becf']\n",
    "\n",
    "l = ['-', '--', '-.', ':']\n",
    "m = ['o', 'x', 's']"
   ]
  },
  {
   "cell_type": "markdown",
   "metadata": {},
   "source": [
    "## 4.0 Introduction\n",
    "---"
   ]
  },
  {
   "cell_type": "markdown",
   "metadata": {},
   "source": [
    "**Overview**\n",
    "\n",
    "- [4.0 Introduction](#4.0-Introduction)\n",
    "\n",
    "---"
   ]
  }
 ],
 "metadata": {
  "kernelspec": {
   "display_name": "Python 3",
   "language": "python",
   "name": "python3"
  },
  "language_info": {
   "codemirror_mode": {
    "name": "ipython",
    "version": 3
   },
   "file_extension": ".py",
   "mimetype": "text/x-python",
   "name": "python",
   "nbconvert_exporter": "python",
   "pygments_lexer": "ipython3",
   "version": "3.6.3"
  }
 },
 "nbformat": 4,
 "nbformat_minor": 2
}
