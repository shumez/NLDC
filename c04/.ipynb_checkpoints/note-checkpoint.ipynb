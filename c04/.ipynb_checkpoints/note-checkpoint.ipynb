{
 "cells": [
  {
   "cell_type": "markdown",
   "metadata": {},
   "source": [
    "# 4 Flows on the Circle\n",
    "---"
   ]
  },
  {
   "cell_type": "markdown",
   "metadata": {},
   "source": [
    "**Overview**\n",
    "\n",
    "- [4.0 Introduction](#4.0-Introduction)\n",
    "- [4.1 Examples and Definitions](#4.1-Examples-and-Definitions)\n",
    "    - [Example 4.1.1](#Example-4.1.1)\n",
    "    - [Example 4.1.2](#Example-4.1.2)\n",
    "- [4.2 Uniform Oscillator](#4.2-Uniform-Oscillator)\n",
    "\n",
    "---"
   ]
  },
  {
   "cell_type": "code",
   "execution_count": 2,
   "metadata": {},
   "outputs": [],
   "source": [
    "import matplotlib.pyplot as plt\n",
    "import numpy as np\n",
    "\n",
    "c = ['#1f77b4', \n",
    "     '#ff7f0e', \n",
    "     '#2ca02c', \n",
    "     '#d62728', \n",
    "     '#9467bd', \n",
    "     '#8c564b', \n",
    "     '#e377c2', \n",
    "     '#7f7f7f', \n",
    "     '#bcbd22', \n",
    "     '#17becf']\n",
    "\n",
    "l = ['-', '--', '-.', ':']\n",
    "m = ['o', 'x', 's']"
   ]
  },
  {
   "cell_type": "markdown",
   "metadata": {},
   "source": [
    "## 4.0 Introduction\n",
    "---"
   ]
  },
  {
   "cell_type": "markdown",
   "metadata": {},
   "source": [
    "$$\\dot{\\theta} = f(\\theta)$$\n",
    "\n",
    "**vector field on the circle**\n"
   ]
  },
  {
   "cell_type": "markdown",
   "metadata": {},
   "source": [
    "## 4.1 Examples and Definitions\n",
    "---"
   ]
  },
  {
   "cell_type": "markdown",
   "metadata": {},
   "source": [
    "### Example 4.1.1"
   ]
  },
  {
   "cell_type": "markdown",
   "metadata": {},
   "source": [
    "$$\\dot{\\theta} = \\sin\\theta$$\n",
    "\n",
    "*Solution:*\n",
    "\n"
   ]
  },
  {
   "cell_type": "code",
   "execution_count": 7,
   "metadata": {},
   "outputs": [
    {
     "data": {
      "image/png": "[encoded data removed]",
      "text/plain": [
       "<matplotlib.figure.Figure at 0x116dcdd30>"
      ]
     },
     "metadata": {},
     "output_type": "display_data"
    }
   ],
   "source": [
    "def theta_dot(theta):\n",
    "    theta_ = np.sin(theta)\n",
    "    return theta_\n",
    "\n",
    "pi = np.pi\n",
    "theta = np.linspace(-pi*3/2, pi*3/2, 100)\n",
    "flow = np.linspace(-pi*3/2, pi*3/2, 20)\n",
    "\n",
    "#ax = plt.subplot(111, projection='polar')\n",
    "#ax.plot(theta, r)\n",
    "#ax.set_rmax(2)\n",
    "#ax.set_rticks([0.5, 1, 1.5, 2])  # less radial ticks\n",
    "#ax.set_rlabel_position(-22.5)  # get radial labels away from plotted line\n",
    "\n",
    "#ax.quiver(theta, 0, theta_dot(theta), 0)\n",
    "#ax.grid(True)\n",
    "\n",
    "plt.figure(figsize=(4, 2.25))\n",
    "plt.plot(theta, theta_dot(theta))\n",
    "plt.quiver(flow, 0, theta_dot(flow), 0, color=c[0], alpha=.5)\n",
    "plt.scatter(np.array([-pi, pi]), np.array([0, 0]), c=c[2], marker=m[0], label='Stable')\n",
    "plt.scatter(0, 0, c=c[1], marker=m[1], label='Unstable')\n",
    "\n",
    "plt.xlim(-pi-1, pi+1)\n",
    "plt.xticks([-pi, -pi/2, 0, pi/2, pi], \n",
    "           [r'$-\\pi$', r'$-\\frac{1}{2}\\pi$', r'$0$', r'$\\frac{1}{2}\\pi$', r'$\\pi$'])\n",
    "plt.legend(loc='best')\n",
    "plt.grid(True)\n",
    "plt.show()"
   ]
  },
  {
   "cell_type": "markdown",
   "metadata": {},
   "source": [
    "### Example 4.1.2"
   ]
  },
  {
   "cell_type": "markdown",
   "metadata": {},
   "source": [
    "$$\\dot{\\theta} = \\theta$$\n",
    "\n",
    "*Solution:*\n",
    "\n"
   ]
  },
  {
   "cell_type": "markdown",
   "metadata": {},
   "source": [
    "## 4.2 Uniform Oscillator\n",
    "---"
   ]
  },
  {
   "cell_type": "markdown",
   "metadata": {},
   "source": [
    "$$\\dot{\\theta} = \\omega$$\n",
    "\n",
    "$$\\theta(t) = \\omega t + \\theta_0$$\n",
    "\n",
    "- $\\omega$: angular freq\n",
    "- $T$: period $T = \\frac{2\\pi}{\\omega}$\n",
    "\n"
   ]
  },
  {
   "cell_type": "markdown",
   "metadata": {},
   "source": [
    "### Example 4.2.1"
   ]
  },
  {
   "cell_type": "markdown",
   "metadata": {},
   "source": [
    "- Speedy$T_1$ sec/track\n",
    "- Pokey $T_2$ sec/track ($T_2 > T_1$)\n",
    "\n",
    "*Solution:*\n",
    "\n",
    "let \n",
    "\n",
    "- $\\theta_1(t)$: Speedy position\n",
    "- $\\theta_2(t)$: Pokey position\n",
    "\n",
    "$\\dot{\\theta_1} = \\omega_1$\n",
    "where $\\omega_1 = \\frac{2\\pi}{T_1}$\n",
    "\n",
    "def **phase difference**,  \n",
    "$\\phi := \\theta_1 - \\theta_2$\n",
    "\n",
    "By subtraction,\n",
    "$\\dot{\\phi} = \\dot{\\theta_1} - \\dot{\\theta_2} = \\omega_1 - \\omega_2$\n",
    "\n",
    "$\\phi$ increases by $2\\pi$ after a time\n",
    "$$\\begin{align*}\n",
    "T_{lap} &= \\frac{2\\pi}{\\omega_1 - \\omega_2} \\\\\n",
    "&= \\Big( \\frac{1}{T_1} - \\frac{1}{T_2} \\Big) ^{-1}\n",
    "\\end{align*}$$\n",
    "\n",
    "\n",
    "**beat phenomenon**"
   ]
  },
  {
   "cell_type": "markdown",
   "metadata": {},
   "source": [
    "## 4.3 Nonuniform Oscillator\n",
    "---"
   ]
  },
  {
   "cell_type": "markdown",
   "metadata": {},
   "source": [
    "$$\\begin{align*}\n",
    "\\dot{\\theta} = \\omega - a \\sin \\theta\n",
    "& \\quad\\quad (4.3.1)\n",
    "\\end{align*}$$\n",
    "\n",
    "- Electronics (phase-locked loops)\n",
    "- Biology (oscillating neurons, firefly flashing, human sleep-wake cycle)\n",
    "- Condensed-matter physics (Jasphson junction, charge-density waves)\n",
    "- Mechanics (Overdamped pendulum driven by a constant torque)\n",
    "\n"
   ]
  },
  {
   "cell_type": "code",
   "execution_count": 14,
   "metadata": {},
   "outputs": [
    {
     "data": {
      "image/png": "[encoded data removed]",
      "text/plain": [
       "<matplotlib.figure.Figure at 0x11680c8d0>"
      ]
     },
     "metadata": {},
     "output_type": "display_data"
    }
   ],
   "source": [
    "# constant\n",
    "omega, a = 1.5, 1  \n",
    "\n",
    "def theta_dot(theta, omega, a):\n",
    "    theta_ = omega - a*np.sin(theta)\n",
    "    return theta_\n",
    "\n",
    "pi = np.pi\n",
    "theta = np.linspace(-pi-1, pi+1, 100)\n",
    "\n",
    "plt.figure(figsize=(8, 4.5))\n",
    "\n",
    "plt.plot(theta, theta_dot(theta, omega, a), c=c[0], linestyle=l[0])\n",
    "plt.xticks([-pi, -pi/2, 0, pi/2, pi], \n",
    "           [r'$-\\pi$', r'$-\\frac{1}{2}\\pi$', r'$0$', r'$\\frac{1}{2}\\pi$', r'$\\pi$'])\n",
    "plt.xlim(-pi, pi)\n",
    "plt.ylim(-1, 3)\n",
    "plt.xlabel(r'$\\theta$')\n",
    "plt.ylabel(r'$\\dot{\\theta}$')\n",
    "plt.grid(True)\n",
    "plt.show()"
   ]
  },
  {
   "cell_type": "markdown",
   "metadata": {},
   "source": [
    "### Vector Fields"
   ]
  },
  {
   "cell_type": "markdown",
   "metadata": {},
   "source": [
    "**bottle neck**\n"
   ]
  },
  {
   "cell_type": "code",
   "execution_count": 27,
   "metadata": {},
   "outputs": [
    {
     "name": "stderr",
     "output_type": "stream",
     "text": [
      "No handles with labels found to put in legend.\n"
     ]
    },
    {
     "data": {
      "image/png": "[encoded data removed]",
      "text/plain": [
       "<matplotlib.figure.Figure at 0x11869dc50>"
      ]
     },
     "metadata": {},
     "output_type": "display_data"
    }
   ],
   "source": [
    "def theta_dot(theta, omega, a):\n",
    "    theta_ = omega - a*np.sin(theta)\n",
    "    return theta_\n",
    "\n",
    "pi = np.pi\n",
    "theta = np.linspace(-pi-1, pi+1, 100)\n",
    "flow = np.linspace(-pi-1, pi+1, 8)\n",
    "\n",
    "omegas, aa = np.repeat(1, 3), np.array([1/3, 1, 3])\n",
    "\n",
    "fig, axes = plt.subplots(ncols=3, sharex=True, sharey=True, figsize=(15, 5))\n",
    "\n",
    "for ax, omega, a in zip(axes, omegas, aa):\n",
    "    ax.plot(theta, theta_dot(theta, omega, a), c=c[0], linestyle=l[0])\n",
    "    ax.quiver(flow, 0, theta_dot(flow, omega, a), 0, color=c[0], alpha=.7)\n",
    "    \n",
    "    if a == omega:\n",
    "        ax.scatter(pi/2, theta_dot(pi/2, omega, a), c=c[3], marker=m[2], label='Half-stable')\n",
    "    elif a > omega:\n",
    "        ax.scatter(np.arcsin(omega/a), 0, c=c[2], marker=m[0], label='Stable')\n",
    "        ax.scatter(pi-np.arcsin(omega/a), 0, c=c[1], marker=m[1], label='Unstable')\n",
    "    \n",
    "#     ax.xticks([-pi, -pi/2, 0, pi/2, pi], \n",
    "#            [r'$-\\pi$', r'$-\\frac{1}{2}\\pi$', r'$0$', r'$\\frac{1}{2}\\pi$', r'$\\pi$'])\n",
    "    ax.set(xlabel=r'$\\theta$')\n",
    "    ax.legend(loc='best')\n",
    "    ax.grid(True)\n",
    "    \n",
    "axes[0].set(ylabel=r'\\dot{\\theta}')\n",
    "# plt.xticks([-pi, -pi/2, 0, pi/2, pi], \n",
    "#            [r'$-\\pi$', r'$-\\frac{1}{2}\\pi$', r'$0$', r'$\\frac{1}{2}\\pi$', r'$\\pi$'])\n",
    "# plt.xlim(-pi, pi)\n",
    "# plt.ylim(-1, 3)\n",
    "# plt.xlabel(r'$\\theta$')\n",
    "# plt.ylabel(r'$\\dot{\\theta}$')\n",
    "\n",
    "plt.show()"
   ]
  },
  {
   "cell_type": "markdown",
   "metadata": {},
   "source": [
    "### Example 4.3.1"
   ]
  },
  {
   "cell_type": "markdown",
   "metadata": {},
   "source": [
    "linear stability analysis (4.3.1)\n",
    "\n",
    "*Solution:*\n",
    "\n",
    "fixed points $\\theta*$\n",
    "\n",
    "$$\\sin\\theta* = \\frac{\\omega}{a} \\quad \n",
    "\\cos\\theta* = ±\\sqrt{1 - \\Big( \\frac{\\omega}{a} \\Big)^2}$$"
   ]
  },
  {
   "cell_type": "markdown",
   "metadata": {},
   "source": [
    "---\n",
    "**Overview**\n",
    "\n",
    "- [4.0 Introduction](#4.0-Introduction)\n",
    "- [4.1 Examples and Definitions](#4.1-Examples-and-Definitions)\n",
    "    - [Example 4.1.1](#Example-4.1.1)\n",
    "    - [Example 4.1.2](#Example-4.1.2)\n",
    "- [4.2 Uniform Oscillator](#4.2-Uniform-Oscillator)\n",
    "    - [Example 4.2.1](#Example-4.2.1)\n",
    "- [4.3 Nonuniform Oscillator](#4.3-Nonuniform-Oscillator)\n",
    "    - [Example 4.3.1](#Example-4.3.1)"
   ]
  }
 ],
 "metadata": {
  "kernelspec": {
   "display_name": "Python 3",
   "language": "python",
   "name": "python3"
  },
  "language_info": {
   "codemirror_mode": {
    "name": "ipython",
    "version": 3
   },
   "file_extension": ".py",
   "mimetype": "text/x-python",
   "name": "python",
   "nbconvert_exporter": "python",
   "pygments_lexer": "ipython3",
   "version": "3.6.3"
  }
 },
 "nbformat": 4,
 "nbformat_minor": 2
}
