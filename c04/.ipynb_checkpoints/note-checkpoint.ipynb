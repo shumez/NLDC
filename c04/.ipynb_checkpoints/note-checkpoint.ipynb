{
 "cells": [
  {
   "cell_type": "markdown",
   "metadata": {},
   "source": [
    "# 4 Flows on the Circle\n",
    "---"
   ]
  },
  {
   "cell_type": "markdown",
   "metadata": {},
   "source": [
    "**Overview**\n",
    "\n",
    "- [4.0 Introduction](#4.0-Introduction)\n",
    "- [4.1 Examples and Definitions](#4.1-Examples-and-Definitions)\n",
    "    - [Example 4.1.1](#Example-4.1.1)\n",
    "    - [Example 4.1.2](#Example-4.1.2)\n",
    "- [4.2 Uniform Oscillator](#4.2-Uniform-Oscillator)\n",
    "\n",
    "---"
   ]
  },
  {
   "cell_type": "code",
   "execution_count": 1,
   "metadata": {},
   "outputs": [],
   "source": [
    "import matplotlib.pyplot as plt\n",
    "import numpy as np\n",
    "\n",
    "c = ['#1f77b4', \n",
    "     '#ff7f0e', \n",
    "     '#2ca02c', \n",
    "     '#d62728', \n",
    "     '#9467bd', \n",
    "     '#8c564b', \n",
    "     '#e377c2', \n",
    "     '#7f7f7f', \n",
    "     '#bcbd22', \n",
    "     '#17becf']\n",
    "\n",
    "l = ['-', '--', '-.', ':']\n",
    "m = ['o', 'x', 's']"
   ]
  },
  {
   "cell_type": "markdown",
   "metadata": {},
   "source": [
    "## 4.0 Introduction\n",
    "---"
   ]
  },
  {
   "cell_type": "markdown",
   "metadata": {},
   "source": [
    "$$\\dot{\\theta} = f(\\theta)$$\n",
    "\n",
    "**vector field on the circle**\n"
   ]
  },
  {
   "cell_type": "markdown",
   "metadata": {},
   "source": [
    "## 4.1 Examples and Definitions\n",
    "---"
   ]
  },
  {
   "cell_type": "markdown",
   "metadata": {},
   "source": [
    "### Example 4.1.1"
   ]
  },
  {
   "cell_type": "markdown",
   "metadata": {},
   "source": [
    "$$\\dot{\\theta} = \\sin\\theta$$\n",
    "\n",
    "*Solution:*\n",
    "\n"
   ]
  },
  {
   "cell_type": "code",
   "execution_count": 13,
   "metadata": {},
   "outputs": [
    {
     "data": {
      "image/png": "[encoded data removed]",
      "text/plain": [
       "<matplotlib.figure.Figure at 0x11c9ddeb8>"
      ]
     },
     "metadata": {},
     "output_type": "display_data"
    }
   ],
   "source": [
    "def theta_dot(theta):\n",
    "    theta_ = np.sin(theta)\n",
    "    return theta_\n",
    "\n",
    "pi = np.pi\n",
    "theta = np.linspace(-pi*3/2, pi*3/2, 100)\n",
    "flow = np.linspace(-pi*3/2, pi*3/2, 20)\n",
    "\n",
    "#ax = plt.subplot(111, projection='polar')\n",
    "#ax.plot(theta, r)\n",
    "#ax.set_rmax(2)\n",
    "#ax.set_rticks([0.5, 1, 1.5, 2])  # less radial ticks\n",
    "#ax.set_rlabel_position(-22.5)  # get radial labels away from plotted line\n",
    "\n",
    "#ax.quiver(theta, 0, theta_dot(theta), 0)\n",
    "#ax.grid(True)\n",
    "\n",
    "plt.figure(figsize=(10, 5))\n",
    "plt.plot(theta, theta_dot(theta))\n",
    "plt.quiver(flow, 0, theta_dot(flow), 0, color=c[0], alpha=.5)\n",
    "plt.scatter(np.array([-pi, pi]), np.array([0, 0]), c=c[2], marker=m[0], label='Stable')\n",
    "plt.scatter(0, 0, c=c[1], marker=m[1], label='Unstable')\n",
    "\n",
    "plt.xticks([-pi, -pi/2, 0, pi/2, pi], \n",
    "           [r'$-\\pi$', r'$-\\frac{1}{2}\\pi$', r'$0$', r'$\\frac{1}{2}\\pi$', r'$\\pi$', ])\n",
    "plt.legend(loc='best')\n",
    "plt.grid(True)\n",
    "plt.show()"
   ]
  },
  {
   "cell_type": "markdown",
   "metadata": {},
   "source": [
    "### Example 4.1.2"
   ]
  },
  {
   "cell_type": "markdown",
   "metadata": {},
   "source": [
    "$$\\dot{\\theta} = \\theta$$\n",
    "\n",
    "*Solution:*\n",
    "\n"
   ]
  },
  {
   "cell_type": "markdown",
   "metadata": {},
   "source": [
    "## 4.2 Uniform Oscillator\n",
    "---"
   ]
  },
  {
   "cell_type": "markdown",
   "metadata": {},
   "source": [
    "$$\\dot{\\theta} = \\omega$$\n",
    "\n",
    "$$\\theta(t) = \\omega t + \\theta_0$$"
   ]
  },
  {
   "cell_type": "markdown",
   "metadata": {},
   "source": [
    "---\n",
    "\n",
    "**Overview**\n",
    "\n",
    "- [4.0 Introduction](#4.0-Introduction)\n",
    "- [4.1 Examples and Definitions](#4.1-Examples-and-Definitions)\n",
    "    - [Example 4.1.1](#Example-4.1.1)\n",
    "    - [Example 4.1.2](#Example-4.1.2)\n",
    "- [4.2 Uniform Oscillator](#4.2-Uniform-Oscillator)"
   ]
  }
 ],
 "metadata": {
  "kernelspec": {
   "display_name": "Python 3",
   "language": "python",
   "name": "python3"
  },
  "language_info": {
   "codemirror_mode": {
    "name": "ipython",
    "version": 3
   },
   "file_extension": ".py",
   "mimetype": "text/x-python",
   "name": "python",
   "nbconvert_exporter": "python",
   "pygments_lexer": "ipython3",
   "version": "3.6.3"
  }
 },
 "nbformat": 4,
 "nbformat_minor": 2
}
