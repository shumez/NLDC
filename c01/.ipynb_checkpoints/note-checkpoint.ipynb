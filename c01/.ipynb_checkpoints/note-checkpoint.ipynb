{
 "cells": [
  {
   "cell_type": "markdown",
   "metadata": {},
   "source": [
    "# 1 Overview\n",
    "---"
   ]
  },
  {
   "cell_type": "markdown",
   "metadata": {},
   "source": [
    "**Overview**\n",
    "- [1.0 Chaos, Fractals, and Dynamics](#1.0-Chaos,-Fractals,-and-Dynamics)\n",
    "- [1.1 Capsule History of Dynamics](#1.1-Capsule-History-of-Dynamics)\n",
    "- [1.2 The Importance of Being Nonlinear](#1.2-The-Importance-of-Being-Nonlinear)\n",
    "    - [Nonautonomous Systems](#Nonautonomous-Systems)"
   ]
  },
  {
   "cell_type": "markdown",
   "metadata": {},
   "source": [
    "## 1.0 Chaos, Fractals, and Dynamics\n",
    "---"
   ]
  },
  {
   "cell_type": "markdown",
   "metadata": {},
   "source": [
    "## 1.1 Capsule History of Dynamics\n",
    "---"
   ]
  },
  {
   "cell_type": "markdown",
   "metadata": {},
   "source": [
    "## 1.2 The Importance of Being Nonlinear\n",
    "---"
   ]
  },
  {
   "cell_type": "markdown",
   "metadata": {},
   "source": [
    "$$m \\frac{d^2 x}{dt^2} + b \\frac{dx}{dt} + kx = 0$$\n",
    "(1)\n",
    "\n",
    "$$\\frac{\\partial u}{\\partial t} = \\frac{\\partial ^2 u}{\\partial x^2}$$\n",
    "\n",
    "$$\n",
    "\\begin{align*}\n",
    "\\dot{x}_1 &= f_1(x_1, \\cdots , x_n) \\\\\n",
    "& \\vdots \\\\\n",
    "\\dot{x}_n &= f_n(x_1, \\cdots , x_n)\n",
    "\\end{align*}\n",
    "$$\n",
    "(2)\n",
    "\n",
    "$$\\dot{x}_1 \\equiv \\frac{dx_i}{dt}$$\n",
    "\n",
    "$$\n",
    "\\begin{align*}\n",
    "\\dot{x}_2 \n",
    "&= \\ddot{x} = - \\frac{b}{m} \\dot{x} - \\frac{k}{m} x \\\\\n",
    "&= - \\frac{b}{m} x_2 - \\frac{k}{m} x_1\n",
    "\\end{align*}\n",
    "$$\n",
    "\n",
    "\n",
    "$$\n",
    "\\begin{cases}\n",
    "\\dot{x}_1 &= x_2 \\\\\n",
    "\\dot{x}_2 &= - \\frac{b}{m} x_2 - \\frac{k}{m} x_1\n",
    "\\end{cases}\n",
    "$$"
   ]
  },
  {
   "cell_type": "markdown",
   "metadata": {},
   "source": [
    "**nonlinear**\n",
    "\n",
    "e.g., pendulum\n",
    "\n",
    "$$\n",
    "\\begin{cases}\n",
    "\\dot{x}_1 = x_2 \\\\\n",
    "\\dot{x}_2 = - \\frac{g}{L} \\sin(x_1)\n",
    "\\end{cases}\n",
    "$$\n",
    "\n",
    "- $x$\n",
    "- $g$: gravity acceleration\n",
    "- $L$: length"
   ]
  },
  {
   "cell_type": "markdown",
   "metadata": {},
   "source": [
    "### Nonautonomous Systems"
   ]
  },
  {
   "cell_type": "markdown",
   "metadata": {},
   "source": [
    "**forced harmonic oscillator**\n",
    "\n",
    "$$m\\ddot{x} + b\\dot{x} + kx = F \\cos t$$\n",
    "\n",
    "let:\n",
    "- $x_1 = x$\n",
    "- $x_2 = \\dot{x}$\n",
    "- $x_3 = t$, then $\\dot{x}_3 = 1$\n",
    "\n",
    "$$\n",
    "\\begin{cases}\n",
    "\\dot{x}_1 = x_2 \\\\\n",
    "\\dot{x}_2 = \\frac{1}{m} (-kx_1 - bx_2 + F\\cos x_3) \\\\\n",
    "\\dot{x}_3 = 1\n",
    "\\end{cases}\n",
    "$$\n",
    "(3)\n"
   ]
  },
  {
   "cell_type": "markdown",
   "metadata": {},
   "source": [
    "---\n",
    "**Overview**\n",
    "- [1.0 Chaos, Fractals, and Dynamics](#1.0-Chaos,-Fractals,-and-Dynamics)\n",
    "- [1.1 Capsule History of Dynamics](#1.1-Capsule-History-of-Dynamics)\n",
    "- [1.2 The Importance of Being Nonlinear](#1.2-The-Importance-of-Being-Nonlinear)\n",
    "    - [Nonautonomous Systems](#Nonautonomous-Systems)"
   ]
  }
 ],
 "metadata": {
  "kernelspec": {
   "display_name": "Python 3",
   "language": "python",
   "name": "python3"
  },
  "language_info": {
   "codemirror_mode": {
    "name": "ipython",
    "version": 3
   },
   "file_extension": ".py",
   "mimetype": "text/x-python",
   "name": "python",
   "nbconvert_exporter": "python",
   "pygments_lexer": "ipython3",
   "version": "3.6.3"
  }
 },
 "nbformat": 4,
 "nbformat_minor": 2
}
