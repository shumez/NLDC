{
 "cells": [
  {
   "cell_type": "markdown",
   "metadata": {},
   "source": [
    "# 5 Linear Systems"
   ]
  },
  {
   "cell_type": "markdown",
   "metadata": {},
   "source": [
    "*Overview*\n",
    "\n",
    "- [5.0 Introduction](#5.0-Introduction)\n",
    "- [5.1 Definitions and Exmaples](#5.1 Definitions-and-Exmaples)\n",
    "\n",
    "---"
   ]
  },
  {
   "cell_type": "code",
   "execution_count": 2,
   "metadata": {},
   "outputs": [],
   "source": [
    "import matplotlib.pyplot as plt\n",
    "import numpy as np\n",
    "\n",
    "c = ['#1f77b4', \n",
    "     '#ff7f0e', \n",
    "     '#2ca02c', \n",
    "     '#d62728', \n",
    "     '#9467bd', \n",
    "     '#8c564b', \n",
    "     '#e377c2', \n",
    "     '#7f7f7f', \n",
    "     '#bcbd22', \n",
    "     '#17becf']\n",
    "\n",
    "l = ['-', '--', '-.', ':']\n",
    "m = ['o', 'x', 's']"
   ]
  },
  {
   "cell_type": "markdown",
   "metadata": {},
   "source": [
    "$$\\begin{align*}\n",
    "& \\quad\\quad (5.)\n",
    "\\end{align*}$$"
   ]
  },
  {
   "cell_type": "markdown",
   "metadata": {},
   "source": [
    "## 5.0 Introduction\n",
    "---"
   ]
  },
  {
   "cell_type": "markdown",
   "metadata": {},
   "source": [
    "## 5.1 Definitions and Exmaples\n",
    "---"
   ]
  },
  {
   "cell_type": "markdown",
   "metadata": {},
   "source": [
    "**two-dimensional lilnear system**\n",
    "\n",
    "$$\\begin{align*}\n",
    "\\dot{x} &= ax + by \\\\\n",
    "\\dot{y} &= cx + dy\n",
    "\\end{align*}$$\n",
    "\n",
    "$$\\mathbf{\\dot{x}} = \\mathbf{Ax}$$\n",
    "\n",
    "where\n",
    "\n",
    "$$\\begin{align*}\n",
    "\\mathbf{A} = \n",
    "\\begin{pmatrix}\n",
    "a & b \\\\\n",
    "c & d\n",
    "\\end{pmatrix}\n",
    "\\quad \\text{and} \\quad\n",
    "\\mathbf{x} = \n",
    "\\begin{pmatrix}\n",
    "x \\\\\n",
    "y\n",
    "\\end{pmatrix}\n",
    "\\end{align*}$$"
   ]
  },
  {
   "cell_type": "markdown",
   "metadata": {},
   "source": [
    "### Example 5.1.1"
   ]
  },
  {
   "cell_type": "markdown",
   "metadata": {},
   "source": [
    "**simple harmonic oscillator**\n",
    "\n",
    "$$\\begin{align*}\n",
    "m\\ddot{x} + kx = 0\n",
    "& \\quad\\quad (5.1.1)\n",
    "\\end{align*}$$\n",
    "\n",
    "- $m$: mass\n",
    "- $k$: spring constant\n",
    "- $x$: displacement of the mass drom equilibrium\n"
   ]
  },
  {
   "cell_type": "code",
   "execution_count": 3,
   "metadata": {},
   "outputs": [
    {
     "data": {
      "image/png": "[encoded data removed]",
      "text/plain": [
       "<matplotlib.figure.Figure at 0x116d1cb00>"
      ]
     },
     "metadata": {},
     "output_type": "display_data"
    }
   ],
   "source": [
    "plt.figure(figsize=(5, 5))\n",
    "\n",
    "# k\n",
    "k = 3\n",
    "plt.plot(np.sin(np.linspace(-k, 0)*10)*.1, np.linspace(-k, 0), c=c[0], linestyle=l[0])\n",
    "plt.text(0.1, -k/2, r'$k$', horizontalalignment='left', verticalalignment='center')\n",
    "\n",
    "# m\n",
    "plt.scatter(0, 0, c=c[0], marker=m[2])\n",
    "plt.text(0.1, 0, r'$m$', horizontalalignment='left', verticalalignment='center')\n",
    "\n",
    "# x\n",
    "x = 2\n",
    "plt.plot(np.array([-1, -1]), np.array([0, x]), c=c[0], linestyle=l[0])\n",
    "plt.text(-1.1, x/2, r'$x$', horizontalalignment='right', verticalalignment='center')\n",
    "plt.scatter(-1, x, c=c[0], marker='v')\n",
    "\n",
    "plt.axhspan(-3.5, -3, facecolor=c[0], alpha=.7)\n",
    "\n",
    "# plt.plot(np.array([0, -1.5]), np.array([0, 0]), c=c[0], linestyle=l[1])\n",
    "\n",
    "plt.title(r'$m\\ddot{x} + kx = 0$')\n",
    "plt.xlim(-3, 2)\n",
    "plt.ylim(2.5, -3.5)\n",
    "plt.xticks([])\n",
    "# plt.yticks([])\n",
    "plt.grid(True, linestyle=l[3])\n",
    "\n",
    "plt.show()"
   ]
  },
  {
   "cell_type": "code",
   "execution_count": null,
   "metadata": {},
   "outputs": [],
   "source": []
  },
  {
   "cell_type": "markdown",
   "metadata": {},
   "source": [
    "### Example 5.1.2"
   ]
  },
  {
   "cell_type": "code",
   "execution_count": null,
   "metadata": {},
   "outputs": [],
   "source": [
    "A = [[a, 0], [0, -1]]\n",
    "\n",
    "X_ = [x_, y_]\n",
    "X_ = X_.T\n",
    "\n",
    "X = [x, y]\n",
    "X = X.T\n",
    "\n",
    "np.matmul(A, X)\n"
   ]
  },
  {
   "cell_type": "markdown",
   "metadata": {},
   "source": [
    "---\n",
    "*Overview*\n",
    "\n",
    "- [5.0 Introduction](#5.0-Introduction)\n",
    "- [5.1 Definitions and Exmaples](#5.1 Definitions-and-Exmaples)\n",
    "    - [Example 5.1.1](#Example-5.1.1)"
   ]
  }
 ],
 "metadata": {
  "kernelspec": {
   "display_name": "Python 3",
   "language": "python",
   "name": "python3"
  },
  "language_info": {
   "codemirror_mode": {
    "name": "ipython",
    "version": 3
   },
   "file_extension": ".py",
   "mimetype": "text/x-python",
   "name": "python",
   "nbconvert_exporter": "python",
   "pygments_lexer": "ipython3",
   "version": "3.6.3"
  }
 },
 "nbformat": 4,
 "nbformat_minor": 2
}
